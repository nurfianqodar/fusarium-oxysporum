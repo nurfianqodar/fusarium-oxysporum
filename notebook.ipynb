{
 "cells": [
  {
   "cell_type": "markdown",
   "id": "9603f785",
   "metadata": {},
   "source": [
    "# Analisis _Molecular Docking_ Berbagai Senyawa Bioaktif dari Kulit Kentang terhadap Enzim CWDE's dari _Fusarium oxysporum_\n",
    "\n",
    "\n",
    "\n",
    " **Author**: Diva Tari Asina Munthe\n",
    "\n",
    " **NPM**: 225001130         \n",
    "\n",
    " **Institusi**: Universitas Siliwangi \n"
   ]
  },
  {
   "cell_type": "markdown",
   "id": "99458ed5",
   "metadata": {},
   "source": [
    "## Tinjauan Enzim"
   ]
  },
  {
   "cell_type": "markdown",
   "id": "ca6d8962",
   "metadata": {},
   "source": [
    "### Cutinase"
   ]
  },
  {
   "cell_type": "markdown",
   "id": "fa41c08f",
   "metadata": {},
   "source": [
    "\n",
    "#### Identitas dan Produksi\n",
    "\n",
    "* Enzim ini dinamai FoCut5a, diisolasi dari jamur mesofilik *Fusarium oxysporum*.\n",
    "* Gen pengkode FoCut5a berasal dari lokus foqg\\_13916.1, dan disintesis melalui teknik Overlap Extension PCR (OEPCR).\n",
    "* Diekspresikan secara heterolog di *E. coli*, baik dalam sitoplasma maupun periplasma, namun ekspresi periplasma pada 16°C menghasilkan enzim yang paling aktif dan larut.\n",
    "\n",
    "\n",
    "#### Struktur Kristal\n",
    "\n",
    "* Struktur kristalnya berhasil ditentukan dengan resolusi 1.9 Å.\n",
    "* Memiliki lipase α/β fold, terdiri dari catalytic triad khas serine hydrolase: Ser121, His189, dan Asp176.\n",
    "* Dibandingkan dengan cutinase dari *Fusarium solani*, FoCut5a menunjukkan perbedaan elektrostatik permukaan dan interaksi asam amino yang berpotensi memengaruhi kestabilan dan aktivitas enzim.\n",
    "\n",
    "\n",
    "#### Karakterisasi Biokimia\n",
    "\n",
    "* Aktivitas maksimum dicapai pada suhu 40°C dan pH 8.0.\n",
    "* Aktif terhadap p-nitrophenyl esters:\n",
    "\n",
    "  * Tertinggi terhadap p-nitrophenyl butyrate (C4)\n",
    "  * Diikuti oleh C2 dan C12 ester.\n",
    "* Km FoCut5a terhadap pNPhB: 0.7 ± 0.2 mM\n",
    "  Menunjukkan afinitas tinggi terhadap substrat tersebut.\n",
    "\n",
    "> #### Referensi\n",
    "> Dimarogona, M., Nikolaivits, E., Kanelli, M., Christakopoulos, P., Sandgren, M., & Topakas, E. (2015). *Structural and functional studies of a Fusarium oxysporum cutinase with polyethylene terephthalate modification potential*. BBA - General Subjects. https://doi.org/10.1016/j.bbagen.2015.08.009\n"
   ]
  },
  {
   "cell_type": "code",
   "execution_count": 7,
   "id": "856dd1e5",
   "metadata": {},
   "outputs": [
    {
     "data": {
      "application/vnd.jupyter.widget-view+json": {
       "model_id": "d83f37e4dff74e3984b93a760cd12a05",
       "version_major": 2,
       "version_minor": 0
      },
      "text/plain": [
       "NGLWidget()"
      ]
     },
     "metadata": {},
     "output_type": "display_data"
    }
   ],
   "source": [
    "import nglview as nv\n",
    "\n",
    "cut_view = nv.show_file(\"./structures/targets/cutinase.pdb\")\n",
    "cut_view"
   ]
  },
  {
   "cell_type": "markdown",
   "id": "ddeb30cc",
   "metadata": {},
   "source": [
    "### Xylanase"
   ]
  },
  {
   "cell_type": "markdown",
   "id": "41a41392",
   "metadata": {},
   "source": [
    "#### Fungsi Umum Xylanase\n",
    "\n",
    "Xylanase adalah enzim hidrolase dinding sel tumbuhan yang memecah xilan, komponen utama hemiselulosa. Enzim ini:\n",
    "\n",
    "* Termasuk dalam keluarga enzim pendegradasi polisakarida tanaman (lytic enzymes).\n",
    "* Dapat mendukung infeksi tanaman dengan melunakkan dinding sel, mempermudah penetrasi hifa jamur.\n",
    "\n",
    "---\n",
    "\n",
    "#### Xylanase dalam Genom *Fusarium oxysporum*\n",
    "\n",
    "Dalam artikel ini, xylanase tidak dibahas secara eksplisit satu per satu, namun dikontekstualisasikan sebagai bagian dari:\n",
    "\n",
    "##### a. Gene Clusters di Region Patogenik (LS - Lineage Specific)\n",
    "\n",
    "* LS chromosomes (khususnya kromosom 14 dan 15) mengandung banyak gen pengkode enzim dinding sel tanaman, termasuk xylanase, selulase, dan lainnya.\n",
    "* Gen-gen ini berada di region yang diperkaya oleh transposable elements (TEs) dan berasal dari evolusi atau transfer horizontal, bukan dari genom konservatif.\n",
    "\n",
    "##### b. Ekspresi Selama Infeksi\n",
    "\n",
    "* Enzim-enzim pendegradasi dinding sel (termasuk xylanase) menunjukkan ekspresi tinggi selama tahap awal infeksi akar tomat oleh *F. oxysporum*.\n",
    "* Ini mengindikasikan peran penting xylanase dalam memfasilitasi invasi awal ke jaringan tanaman inang.\n",
    "\n",
    "##### c. Peran dalam Virulensi\n",
    "\n",
    "* Gen-gen yang menyandi enzim seperti xylanase, ditemukan berasosiasi dengan kromosom patogenik yang dapat dipindahkan ke strain non-patogen, mengubahnya menjadi patogen.\n",
    "\n",
    "> #### Referensi\n",
    "> Ma, L. J., van der Does, H. C., Borkovich, K. A., Coleman, J. J., Daboussi, M. J., Di Pietro, A., Dufresne, M., Freitag, M., Grabherr, M., Henrissat, B., Houterman, P. M., Kang, S., Shim, W. B., Woloshuk, C., Xie, X., Xu, J. R., Antoniw, J., Baker, S. E., Bluhm, B. H., Breakspear, A., … Rep, M. (2010). Comparative genomics reveals mobile pathogenicity chromosomes in Fusarium. Nature, 464(7287), 367–373. https://doi.org/10.1038/nature08850"
   ]
  },
  {
   "cell_type": "code",
   "execution_count": 9,
   "id": "2fac0dc5",
   "metadata": {},
   "outputs": [
    {
     "data": {
      "application/vnd.jupyter.widget-view+json": {
       "model_id": "64c2b8b48e254356a1e2629b3696aaae",
       "version_major": 2,
       "version_minor": 0
      },
      "text/plain": [
       "NGLWidget()"
      ]
     },
     "metadata": {},
     "output_type": "display_data"
    }
   ],
   "source": [
    "xy_view = nv.show_file(\"./structures/targets/pdb3u7b.ent\")\n",
    "xy_view"
   ]
  }
 ],
 "metadata": {
  "kernelspec": {
   "display_name": "venv",
   "language": "python",
   "name": "python3"
  },
  "language_info": {
   "codemirror_mode": {
    "name": "ipython",
    "version": 3
   },
   "file_extension": ".py",
   "mimetype": "text/x-python",
   "name": "python",
   "nbconvert_exporter": "python",
   "pygments_lexer": "ipython3",
   "version": "3.11.13"
  }
 },
 "nbformat": 4,
 "nbformat_minor": 5
}
